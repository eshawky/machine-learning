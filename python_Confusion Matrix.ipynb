{
  "nbformat": 4,
  "nbformat_minor": 0,
  "metadata": {
    "colab": {
      "provenance": [],
      "collapsed_sections": []
    },
    "kernelspec": {
      "name": "python3",
      "display_name": "Python 3"
    },
    "language_info": {
      "name": "python"
    }
  },
  "cells": [
    {
      "cell_type": "code",
      "source": [
        "import numpy as np\n",
        "import pandas as pd\n",
        "import seaborn as sn\n",
        "import matplotlib.pyplot as plt\n",
        "from sklearn.metrics import confusion_matrix, ConfusionMatrixDisplay"
      ],
      "metadata": {
        "id": "8lONUlcKyORW"
      },
      "execution_count": 2,
      "outputs": []
    },
    {
      "cell_type": "code",
      "execution_count": 17,
      "metadata": {
        "colab": {
          "base_uri": "https://localhost:8080/"
        },
        "id": "vH8Zx-JEwzNE",
        "outputId": "066fb98d-ec49-42aa-eef4-a5ae49f01385"
      },
      "outputs": [
        {
          "output_type": "stream",
          "name": "stdout",
          "text": [
            "number of samples 10\n"
          ]
        }
      ],
      "source": [
        "y_true = [\"covid\", \"covid\",     \"covid\", \"covid\", \"covid\", \"non-covid\",\"non-covid\",\"non-covid\",\"non-covid\",\"non-covid\"]\n",
        "y_pred = [\"covid\", \"non-covid\", \"covid\", \"covid\", \"covid\", \"non-covid\",\"non-covid\",\"non-covid\",\"covid\"    ,\"covid\"]\n",
        "\n",
        "y_true = np.array(y_true)\n",
        "y_pred = np.array(y_pred)\n",
        "\n",
        "print (\"number of samples\", len(y_true) )"
      ]
    },
    {
      "cell_type": "code",
      "source": [
        "cm     = confusion_matrix(y_true, y_pred)\n",
        "plt.imshow(cm, cmap='gray')\n",
        "plt.title(\"Confusion Matrix\")\n",
        "plt.xlabel (\"Predicted (Covid, Non Covid)\")\n",
        "plt.ylabel(\"Actual (Non Covid, Covid)\")\n",
        "plt.show()"
      ],
      "metadata": {
        "colab": {
          "base_uri": "https://localhost:8080/",
          "height": 295
        },
        "id": "VPBcBtcEyaT2",
        "outputId": "7fd9d521-804e-4499-a50d-9dc3d31b5375"
      },
      "execution_count": 12,
      "outputs": [
        {
          "output_type": "display_data",
          "data": {
            "text/plain": [
              "<Figure size 432x288 with 1 Axes>"
            ],
            "image/png": "[encoded data removed]"
          },
          "metadata": {
            "needs_background": "light"
          }
        }
      ]
    },
    {
      "cell_type": "code",
      "source": [
        "#Calculate the confusion matrix\n",
        "cm   = confusion_matrix(y_true, y_pred)\n",
        "\n",
        "#Convert the data into dataframe\n",
        "data = pd.DataFrame( cm , index = [\"Covid\" , \"Noncovid\"] ,columns=[\"Covid\" , \"Noncovid\"])\n",
        "\n",
        "#plot the dataframe as heatmap\n",
        "sn.heatmap(data , annot = True , center = 1)"
      ],
      "metadata": {
        "colab": {
          "base_uri": "https://localhost:8080/",
          "height": 286
        },
        "id": "zMWIvmS1ygWd",
        "outputId": "f3083d0b-83ed-4e55-fd98-15e92d1599b8"
      },
      "execution_count": 15,
      "outputs": [
        {
          "output_type": "execute_result",
          "data": {
            "text/plain": [
              "<matplotlib.axes._subplots.AxesSubplot at 0x7f75a27977d0>"
            ]
          },
          "metadata": {},
          "execution_count": 15
        },
        {
          "output_type": "display_data",
          "data": {
            "text/plain": [
              "<Figure size 432x288 with 2 Axes>"
            ],
            "image/png": "[encoded data removed]"
          },
          "metadata": {
            "needs_background": "light"
          }
        }
      ]
    }
  ]
}