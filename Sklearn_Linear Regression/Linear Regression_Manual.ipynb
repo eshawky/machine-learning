{
  "nbformat": 4,
  "nbformat_minor": 0,
  "metadata": {
    "colab": {
      "provenance": []
    },
    "kernelspec": {
      "name": "python3",
      "display_name": "Python 3"
    },
    "language_info": {
      "name": "python"
    }
  },
  "cells": [
    {
      "cell_type": "code",
      "source": [
        "import numpy as np\n",
        "import matplotlib.pyplot as plt"
      ],
      "metadata": {
        "id": "LxjisL4cYR70"
      },
      "execution_count": 1,
      "outputs": []
    },
    {
      "cell_type": "code",
      "execution_count": 2,
      "metadata": {
        "id": "BMpruoiMYESD"
      },
      "outputs": [],
      "source": [
        "x = [3,21,22,34,54,34,55,67,89,99]\n",
        "x = np.array(x)\n",
        "y = [1,10,14,34,44,36,22,67,79,90]\n",
        "y = np.array(y)"
      ]
    },
    {
      "cell_type": "code",
      "source": [
        "plt.scatter(x,y)"
      ],
      "metadata": {
        "colab": {
          "base_uri": "https://localhost:8080/",
          "height": 282
        },
        "id": "uXN_O1WRYkXb",
        "outputId": "5b99b968-7000-4616-f197-e4c81fb1c1b9"
      },
      "execution_count": 3,
      "outputs": [
        {
          "output_type": "execute_result",
          "data": {
            "text/plain": [
              "<matplotlib.collections.PathCollection at 0x7fa02e7ce090>"
            ]
          },
          "metadata": {},
          "execution_count": 3
        },
        {
          "output_type": "display_data",
          "data": {
            "text/plain": [
              "<Figure size 432x288 with 1 Axes>"
            ],
            "image/png": "[encoded data removed]"
          },
          "metadata": {
            "needs_background": "light"
          }
        }
      ]
    },
    {
      "cell_type": "code",
      "source": [
        "#Define net function\n",
        "def model(a,b,x):\n",
        "    return a*x + b"
      ],
      "metadata": {
        "id": "7lUibrlAYyOw"
      },
      "execution_count": 4,
      "outputs": []
    },
    {
      "cell_type": "code",
      "source": [
        "#define loss function(error function)\n",
        "def loss(a , b, x , y):\n",
        "    m = len(x) \n",
        "    prediction = model(a,b,x)\n",
        "    return (0.5*m)* (np.square (prediction - y)).sum()"
      ],
      "metadata": {
        "id": "KelhjfuyY5pt"
      },
      "execution_count": 5,
      "outputs": []
    },
    {
      "cell_type": "code",
      "source": [
        "#Define the gradient descent function\n",
        "def optimize(a,b,x,y):\n",
        "    \n",
        "    m = len(x)\n",
        "    prediction = model (a,b,x)\n",
        "\n",
        "    db = (1.0/m) * ((prediction - y) *x ).sum()\n",
        "    da = (1.0/m) * ((prediction - y) ).sum()\n",
        "\n",
        "    a = a + Lr*da\n",
        "    b = b + Lr*db\n",
        "    \n",
        "    return a,b\n"
      ],
      "metadata": {
        "id": "rPWgxbDIZjNw"
      },
      "execution_count": 6,
      "outputs": []
    },
    {
      "cell_type": "code",
      "source": [
        "#iterate the optimizer function\n",
        "def iterate(a,b,x,y, times):\n",
        "  \n",
        "  for i in range(times):\n",
        "    a,b = optimize(a,b,x,y)\n",
        "\n",
        "  return a,b\n"
      ],
      "metadata": {
        "id": "-Fe3BNjCabg_"
      },
      "execution_count": 7,
      "outputs": []
    },
    {
      "cell_type": "code",
      "source": [
        "#Initialize parameters\n",
        "a = np.random.rand(1)\n",
        "b = np.random.rand(1)\n",
        "print (\"a value is : \", a, \" b value is: \",b)"
      ],
      "metadata": {
        "colab": {
          "base_uri": "https://localhost:8080/"
        },
        "id": "vIejHSmja0is",
        "outputId": "6e3fafac-47a7-43e4-bb27-fc7e0889571f"
      },
      "execution_count": 8,
      "outputs": [
        {
          "output_type": "stream",
          "name": "stdout",
          "text": [
            "a value is :  [0.90276837]  b value is:  [0.17194491]\n"
          ]
        }
      ]
    },
    {
      "cell_type": "code",
      "source": [
        "#Define learning rate\n",
        "Lr = 1e-4\n",
        "print (\"Lr value is : \", Lr)"
      ],
      "metadata": {
        "colab": {
          "base_uri": "https://localhost:8080/"
        },
        "id": "rRH6o4PqbOEn",
        "outputId": "9e063f4c-f25b-43b2-8093-bfdb9492f4e4"
      },
      "execution_count": 9,
      "outputs": [
        {
          "output_type": "stream",
          "name": "stdout",
          "text": [
            "Lr value is :  0.0001\n"
          ]
        }
      ]
    },
    {
      "cell_type": "code",
      "source": [
        "#Change the value of a,b (model parameters)\n",
        "a,b = iterate(a,b,x,y, 1)\n",
        "print (\"a value is : \", a, \" b value is: \",b)\n",
        "\n",
        "prediction = model(a,b,x)\n",
        "loss_value = loss (a,b,x,y)\n",
        "\n",
        "print(\"Loss is : \", loss)\n",
        "plt.scatter(x,y)\n",
        "plt.plot(x,prediction)"
      ],
      "metadata": {
        "colab": {
          "base_uri": "https://localhost:8080/",
          "height": 317
        },
        "id": "741olhfubZ9-",
        "outputId": "129f1c11-459e-4da2-bcdd-ff67beb50c5b"
      },
      "execution_count": 10,
      "outputs": [
        {
          "output_type": "stream",
          "name": "stdout",
          "text": [
            "a value is :  [0.9031308]  b value is:  [0.18704802]\n",
            "Loss is :  <function loss at 0x7fa02e76d830>\n"
          ]
        },
        {
          "output_type": "execute_result",
          "data": {
            "text/plain": [
              "[<matplotlib.lines.Line2D at 0x7fa02e746210>]"
            ]
          },
          "metadata": {},
          "execution_count": 10
        },
        {
          "output_type": "display_data",
          "data": {
            "text/plain": [
              "<Figure size 432x288 with 1 Axes>"
            ],
            "image/png": "[encoded data removed]"
          },
          "metadata": {
            "needs_background": "light"
          }
        }
      ]
    },
    {
      "cell_type": "code",
      "source": [],
      "metadata": {
        "id": "kFuH1YWgb38T"
      },
      "execution_count": 10,
      "outputs": []
    },
    {
      "cell_type": "markdown",
      "source": [],
      "metadata": {
        "id": "YBsRo-Hbd1Gu"
      }
    },
    {
      "cell_type": "code",
      "source": [
        "a,b = iterate(a,b,x,y,2)\n",
        "prediction=model(a,b,x)\n",
        "loss_value = loss(a, b, x, y)\n",
        "print(\"Loss is : \", loss)\n",
        "\n",
        "plt.scatter(x,y)\n",
        "plt.plot(x,prediction)"
      ],
      "metadata": {
        "colab": {
          "base_uri": "https://localhost:8080/",
          "height": 300
        },
        "id": "QRlkVU7Ecsm_",
        "outputId": "7c3125c5-681c-4f13-a660-dca40063709e"
      },
      "execution_count": 11,
      "outputs": [
        {
          "output_type": "stream",
          "name": "stdout",
          "text": [
            "Loss is :  <function loss at 0x7fa02e76d830>\n"
          ]
        },
        {
          "output_type": "execute_result",
          "data": {
            "text/plain": [
              "[<matplotlib.lines.Line2D at 0x7fa02e24bf50>]"
            ]
          },
          "metadata": {},
          "execution_count": 11
        },
        {
          "output_type": "display_data",
          "data": {
            "text/plain": [
              "<Figure size 432x288 with 1 Axes>"
            ],
            "image/png": "[encoded data removed]"
          },
          "metadata": {
            "needs_background": "light"
          }
        }
      ]
    },
    {
      "cell_type": "code",
      "source": [
        "a,b = iterate(a,b,x,y,3)\n",
        "prediction=model(a,b,x)\n",
        "loss_value = loss(a, b, x, y)\n",
        "print(\"Loss is : \", loss)\n",
        "\n",
        "plt.scatter(x,y)\n",
        "plt.plot(x,prediction)"
      ],
      "metadata": {
        "colab": {
          "base_uri": "https://localhost:8080/",
          "height": 300
        },
        "id": "MkXtobNNfDiZ",
        "outputId": "483f0996-418f-4406-e5f6-abf19044c1e6"
      },
      "execution_count": 12,
      "outputs": [
        {
          "output_type": "stream",
          "name": "stdout",
          "text": [
            "Loss is :  <function loss at 0x7fa02e76d830>\n"
          ]
        },
        {
          "output_type": "execute_result",
          "data": {
            "text/plain": [
              "[<matplotlib.lines.Line2D at 0x7fa02e1c27d0>]"
            ]
          },
          "metadata": {},
          "execution_count": 12
        },
        {
          "output_type": "display_data",
          "data": {
            "text/plain": [
              "<Figure size 432x288 with 1 Axes>"
            ],
            "image/png": "[encoded data removed]"
          },
          "metadata": {
            "needs_background": "light"
          }
        }
      ]
    },
    {
      "cell_type": "code",
      "source": [
        "a,b = iterate(a,b,x,y,4)\n",
        "prediction=model(a,b,x)\n",
        "loss_value = loss(a, b, x, y)\n",
        "print(\"Loss is : \", loss)\n",
        "\n",
        "plt.scatter(x,y)\n",
        "plt.plot(x,prediction)"
      ],
      "metadata": {
        "colab": {
          "base_uri": "https://localhost:8080/",
          "height": 300
        },
        "id": "vCTcawo7fHDB",
        "outputId": "517825b5-a6bb-4f52-d3a8-8900532dfd81"
      },
      "execution_count": 13,
      "outputs": [
        {
          "output_type": "stream",
          "name": "stdout",
          "text": [
            "Loss is :  <function loss at 0x7fa02e76d830>\n"
          ]
        },
        {
          "output_type": "execute_result",
          "data": {
            "text/plain": [
              "[<matplotlib.lines.Line2D at 0x7fa02e1f9a90>]"
            ]
          },
          "metadata": {},
          "execution_count": 13
        },
        {
          "output_type": "display_data",
          "data": {
            "text/plain": [
              "<Figure size 432x288 with 1 Axes>"
            ],
            "image/png": "[encoded data removed]"
          },
          "metadata": {
            "needs_background": "light"
          }
        }
      ]
    },
    {
      "cell_type": "code",
      "source": [
        "a,b = iterate(a,b,x,y,5)\n",
        "prediction=model(a,b,x)\n",
        "loss_value = loss(a, b, x, y)\n",
        "print(\"Loss is : \", loss)\n",
        "\n",
        "plt.scatter(x,y)\n",
        "plt.plot(x,prediction)"
      ],
      "metadata": {
        "colab": {
          "base_uri": "https://localhost:8080/",
          "height": 300
        },
        "id": "WqmHKk-BhEq1",
        "outputId": "437e744a-72ce-4c47-c29c-a693cda2a356"
      },
      "execution_count": 14,
      "outputs": [
        {
          "output_type": "stream",
          "name": "stdout",
          "text": [
            "Loss is :  <function loss at 0x7fa02e76d830>\n"
          ]
        },
        {
          "output_type": "execute_result",
          "data": {
            "text/plain": [
              "[<matplotlib.lines.Line2D at 0x7fa02e100d90>]"
            ]
          },
          "metadata": {},
          "execution_count": 14
        },
        {
          "output_type": "display_data",
          "data": {
            "text/plain": [
              "<Figure size 432x288 with 1 Axes>"
            ],
            "image/png": "[encoded data removed]"
          },
          "metadata": {
            "needs_background": "light"
          }
        }
      ]
    }
  ]
}