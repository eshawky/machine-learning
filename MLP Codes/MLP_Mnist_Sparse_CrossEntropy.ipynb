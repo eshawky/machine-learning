{
  "nbformat": 4,
  "nbformat_minor": 0,
  "metadata": {
    "colab": {
      "provenance": []
    },
    "kernelspec": {
      "name": "python3",
      "display_name": "Python 3"
    },
    "language_info": {
      "name": "python"
    },
    "accelerator": "GPU"
  },
  "cells": [
    {
      "cell_type": "code",
      "metadata": {
        "id": "Mv5fSm4dOYvv"
      },
      "source": [
        "import numpy as np\n",
        "import matplotlib.pyplot as plt\n",
        "from tensorflow import keras\n",
        "from keras.datasets import mnist\n",
        "from keras.models import Sequential \n",
        "from keras.layers import Dense \n",
        "from keras.callbacks import EarlyStopping \n",
        "#from tensorflow.keras.utils import to_categorical"
      ],
      "execution_count": 1,
      "outputs": []
    },
    {
      "cell_type": "code",
      "metadata": {
        "id": "cwvJU42NOziW"
      },
      "source": [
        "(x_train, y_train), (x_test, y_test) = mnist.load_data()\n",
        "x_train_final = x_train.reshape((-1, 784)) /255\n",
        "x_test_final = x_test.reshape((-1, 784)) /255\n",
        "#y_train_final = to_categorical(y_train)\n",
        "#y_test_final = to_categorical(y_test)\n",
        "y_train_final = y_train\n",
        "y_test_final = y_test"
      ],
      "execution_count": 14,
      "outputs": []
    },
    {
      "cell_type": "code",
      "metadata": {
        "id": "pXe-M4uePbqU"
      },
      "source": [
        "model = Sequential() \n",
        "model.add(Dense(512, kernel_initializer='normal', activation='relu', input_shape=(784,)))\n",
        "model.add(Dense(512, activation='relu'))\n",
        "model.add(Dense(512, activation='relu'))\n",
        "model.add(Dense(10, activation='softmax'))"
      ],
      "execution_count": 15,
      "outputs": []
    },
    {
      "cell_type": "code",
      "metadata": {
        "id": "NO68Ph8xQAe1"
      },
      "source": [
        "model.compile(loss='sparse_categorical_crossentropy', optimizer='RMSprop', metrics=['accuracy'])"
      ],
      "execution_count": 16,
      "outputs": []
    },
    {
      "cell_type": "code",
      "metadata": {
        "colab": {
          "base_uri": "https://localhost:8080/"
        },
        "id": "FMOG-hdVQItC",
        "outputId": "35f73848-5ba2-40c7-ea21-e8499ed06c95"
      },
      "source": [
        "history = model.fit(x_train_final, y_train_final, batch_size=256, epochs=50, verbose=1, validation_split = 0.2, callbacks = [EarlyStopping(monitor = 'val_loss', patience = 20)])"
      ],
      "execution_count": 17,
      "outputs": [
        {
          "output_type": "stream",
          "name": "stdout",
          "text": [
            "Epoch 1/50\n",
            "188/188 [==============================] - 2s 5ms/step - loss: 0.3328 - accuracy: 0.8958 - val_loss: 0.2469 - val_accuracy: 0.9261\n",
            "Epoch 2/50\n",
            "188/188 [==============================] - 1s 5ms/step - loss: 0.1038 - accuracy: 0.9680 - val_loss: 0.1084 - val_accuracy: 0.9689\n",
            "Epoch 3/50\n",
            "188/188 [==============================] - 2s 8ms/step - loss: 0.0670 - accuracy: 0.9795 - val_loss: 0.0934 - val_accuracy: 0.9742\n",
            "Epoch 4/50\n",
            "188/188 [==============================] - 1s 5ms/step - loss: 0.0434 - accuracy: 0.9864 - val_loss: 0.1088 - val_accuracy: 0.9720\n",
            "Epoch 5/50\n",
            "188/188 [==============================] - 1s 4ms/step - loss: 0.0315 - accuracy: 0.9894 - val_loss: 0.0947 - val_accuracy: 0.9763\n",
            "Epoch 6/50\n",
            "188/188 [==============================] - 1s 4ms/step - loss: 0.0240 - accuracy: 0.9921 - val_loss: 0.1089 - val_accuracy: 0.9768\n",
            "Epoch 7/50\n",
            "188/188 [==============================] - 1s 4ms/step - loss: 0.0195 - accuracy: 0.9939 - val_loss: 0.1097 - val_accuracy: 0.9767\n",
            "Epoch 8/50\n",
            "188/188 [==============================] - 1s 4ms/step - loss: 0.0158 - accuracy: 0.9946 - val_loss: 0.1173 - val_accuracy: 0.9805\n",
            "Epoch 9/50\n",
            "188/188 [==============================] - 1s 4ms/step - loss: 0.0148 - accuracy: 0.9956 - val_loss: 0.1415 - val_accuracy: 0.9777\n",
            "Epoch 10/50\n",
            "188/188 [==============================] - 1s 4ms/step - loss: 0.0124 - accuracy: 0.9964 - val_loss: 0.1421 - val_accuracy: 0.9782\n",
            "Epoch 11/50\n",
            "188/188 [==============================] - 1s 4ms/step - loss: 0.0133 - accuracy: 0.9959 - val_loss: 0.1754 - val_accuracy: 0.9734\n",
            "Epoch 12/50\n",
            "188/188 [==============================] - 1s 4ms/step - loss: 0.0116 - accuracy: 0.9970 - val_loss: 0.1361 - val_accuracy: 0.9806\n",
            "Epoch 13/50\n",
            "188/188 [==============================] - 1s 4ms/step - loss: 0.0121 - accuracy: 0.9965 - val_loss: 0.1436 - val_accuracy: 0.9794\n",
            "Epoch 14/50\n",
            "188/188 [==============================] - 1s 4ms/step - loss: 0.0107 - accuracy: 0.9968 - val_loss: 0.1802 - val_accuracy: 0.9773\n",
            "Epoch 15/50\n",
            "188/188 [==============================] - 1s 4ms/step - loss: 0.0093 - accuracy: 0.9974 - val_loss: 0.1587 - val_accuracy: 0.9801\n",
            "Epoch 16/50\n",
            "188/188 [==============================] - 1s 4ms/step - loss: 0.0075 - accuracy: 0.9980 - val_loss: 0.2012 - val_accuracy: 0.9787\n",
            "Epoch 17/50\n",
            "188/188 [==============================] - 1s 4ms/step - loss: 0.0093 - accuracy: 0.9977 - val_loss: 0.1946 - val_accuracy: 0.9810\n",
            "Epoch 18/50\n",
            "188/188 [==============================] - 1s 4ms/step - loss: 0.0088 - accuracy: 0.9977 - val_loss: 0.1974 - val_accuracy: 0.9772\n",
            "Epoch 19/50\n",
            "188/188 [==============================] - 1s 4ms/step - loss: 0.0072 - accuracy: 0.9981 - val_loss: 0.2195 - val_accuracy: 0.9789\n",
            "Epoch 20/50\n",
            "188/188 [==============================] - 1s 4ms/step - loss: 0.0086 - accuracy: 0.9980 - val_loss: 0.1996 - val_accuracy: 0.9806\n",
            "Epoch 21/50\n",
            "188/188 [==============================] - 1s 4ms/step - loss: 0.0087 - accuracy: 0.9979 - val_loss: 0.1879 - val_accuracy: 0.9794\n",
            "Epoch 22/50\n",
            "188/188 [==============================] - 1s 4ms/step - loss: 0.0084 - accuracy: 0.9980 - val_loss: 0.2314 - val_accuracy: 0.9774\n",
            "Epoch 23/50\n",
            "188/188 [==============================] - 1s 4ms/step - loss: 0.0057 - accuracy: 0.9985 - val_loss: 0.2153 - val_accuracy: 0.9791\n"
          ]
        }
      ]
    },
    {
      "cell_type": "code",
      "metadata": {
        "colab": {
          "base_uri": "https://localhost:8080/"
        },
        "id": "t0FpbD4CRRWN",
        "outputId": "7926df1e-2402-4498-c74b-e22b20b29c83"
      },
      "source": [
        "score = model.evaluate(x_test_final, y_test_final, verbose=0) \n",
        "print('Test loss:', score[0]) \n",
        "print('Test accuracy:', score[1])"
      ],
      "execution_count": 18,
      "outputs": [
        {
          "output_type": "stream",
          "name": "stdout",
          "text": [
            "Test loss: 0.1839071363210678\n",
            "Test accuracy: 0.980400025844574\n"
          ]
        }
      ]
    },
    {
      "cell_type": "code",
      "metadata": {
        "colab": {
          "base_uri": "https://localhost:8080/",
          "height": 295
        },
        "id": "bb6j3QDdRsws",
        "outputId": "b5063df0-fd9f-43b1-9ff3-e69b3980108f"
      },
      "source": [
        "plt.plot(history.history['loss'])\n",
        "plt.plot(history.history['val_loss'])\n",
        "plt.title('Model Loss')\n",
        "plt.ylabel('Loss')\n",
        "plt.xlabel('Epoch')\n",
        "plt.legend(['Train', 'Test'], loc='upper right')\n",
        "plt.show()"
      ],
      "execution_count": 19,
      "outputs": [
        {
          "output_type": "display_data",
          "data": {
            "text/plain": [
              "<Figure size 432x288 with 1 Axes>"
            ],
            "image/png": "[encoded data removed]"
          },
          "metadata": {
            "needs_background": "light"
          }
        }
      ]
    },
    {
      "cell_type": "code",
      "metadata": {
        "colab": {
          "base_uri": "https://localhost:8080/",
          "height": 295
        },
        "id": "SL28N5xzYLin",
        "outputId": "37555454-3f9c-4e9c-8f8f-ec2197f72aa7"
      },
      "source": [
        "plt.plot(history.history['accuracy'])\n",
        "plt.plot(history.history['val_accuracy'])\n",
        "plt.title('Model Accuracy')\n",
        "plt.ylabel('Accuracy')\n",
        "plt.xlabel('Epoch')\n",
        "plt.legend(['Train', 'Test'], loc='upper right')\n",
        "plt.show()"
      ],
      "execution_count": 20,
      "outputs": [
        {
          "output_type": "display_data",
          "data": {
            "text/plain": [
              "<Figure size 432x288 with 1 Axes>"
            ],
            "image/png": "[encoded data removed]"
          },
          "metadata": {
            "needs_background": "light"
          }
        }
      ]
    }
  ]
}