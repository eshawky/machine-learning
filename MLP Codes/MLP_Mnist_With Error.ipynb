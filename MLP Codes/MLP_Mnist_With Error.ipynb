{
  "nbformat": 4,
  "nbformat_minor": 0,
  "metadata": {
    "colab": {
      "provenance": []
    },
    "kernelspec": {
      "name": "python3",
      "display_name": "Python 3"
    },
    "language_info": {
      "name": "python"
    },
    "accelerator": "GPU"
  },
  "cells": [
    {
      "cell_type": "code",
      "metadata": {
        "id": "Mv5fSm4dOYvv"
      },
      "source": [
        "import numpy as np\n",
        "import matplotlib.pyplot as plt\n",
        "from tensorflow import keras\n",
        "from keras.datasets import mnist\n",
        "from keras.models import Sequential \n",
        "from keras.layers import Dense \n",
        "from keras.optimizers import RMSprop \n",
        "from keras.callbacks import EarlyStopping \n",
        "from tensorflow.keras.utils import to_categorical"
      ],
      "execution_count": null,
      "outputs": []
    },
    {
      "cell_type": "code",
      "metadata": {
        "id": "cwvJU42NOziW"
      },
      "source": [
        "(x_train, y_train), (x_test, y_test) = mnist.load_data()\n",
        "x_train_final = x_train.reshape((-1, 784)) /255\n",
        "x_test_final = x_test.reshape((-1, 784)) /255\n",
        "y_train_final = to_categorical(y_train)\n",
        "y_test_final = to_categorical(y_test)"
      ],
      "execution_count": null,
      "outputs": []
    },
    {
      "cell_type": "code",
      "metadata": {
        "id": "pXe-M4uePbqU"
      },
      "source": [
        "model = Sequential() \n",
        "model.add(Dense(512, kernel_initializer='normal', activation='relu', input_shape=(784,)))\n",
        "model.add(Dense(512, activation='relu'))\n",
        "model.add(Dense(512, activation='relu'))\n",
        "model.add(Dense(10, activation='softmax'))"
      ],
      "execution_count": null,
      "outputs": []
    },
    {
      "cell_type": "code",
      "metadata": {
        "id": "NO68Ph8xQAe1"
      },
      "source": [
        "model.compile(loss='mse', optimizer=RMSprop(), metrics=['accuracy'])"
      ],
      "execution_count": null,
      "outputs": []
    },
    {
      "cell_type": "code",
      "metadata": {
        "colab": {
          "base_uri": "https://localhost:8080/"
        },
        "id": "FMOG-hdVQItC",
        "outputId": "872ff59a-9dd5-4c92-b659-1ba2cabc472c"
      },
      "source": [
        "history = model.fit(x_train_final, y_train_final, batch_size=256, epochs=50, verbose=1, validation_split = 0.2, callbacks = [EarlyStopping(monitor = 'val_loss', patience = 20)])"
      ],
      "execution_count": null,
      "outputs": [
        {
          "output_type": "stream",
          "text": [
            "Epoch 1/50\n",
            "188/188 [==============================] - 2s 5ms/step - loss: 0.0379 - accuracy: 0.7301 - val_loss: 0.0083 - val_accuracy: 0.9463\n",
            "Epoch 2/50\n",
            "188/188 [==============================] - 1s 4ms/step - loss: 0.0062 - accuracy: 0.9601 - val_loss: 0.0051 - val_accuracy: 0.9666\n",
            "Epoch 3/50\n",
            "188/188 [==============================] - 1s 4ms/step - loss: 0.0040 - accuracy: 0.9751 - val_loss: 0.0048 - val_accuracy: 0.9701\n",
            "Epoch 4/50\n",
            "188/188 [==============================] - 1s 4ms/step - loss: 0.0030 - accuracy: 0.9813 - val_loss: 0.0044 - val_accuracy: 0.9724\n",
            "Epoch 5/50\n",
            "188/188 [==============================] - 1s 4ms/step - loss: 0.0025 - accuracy: 0.9843 - val_loss: 0.0047 - val_accuracy: 0.9705\n",
            "Epoch 6/50\n",
            "188/188 [==============================] - 1s 4ms/step - loss: 0.0021 - accuracy: 0.9870 - val_loss: 0.0045 - val_accuracy: 0.9722\n",
            "Epoch 7/50\n",
            "188/188 [==============================] - 1s 4ms/step - loss: 0.0017 - accuracy: 0.9901 - val_loss: 0.0041 - val_accuracy: 0.9755\n",
            "Epoch 8/50\n",
            "188/188 [==============================] - 1s 4ms/step - loss: 0.0016 - accuracy: 0.9905 - val_loss: 0.0045 - val_accuracy: 0.9732\n",
            "Epoch 9/50\n",
            "188/188 [==============================] - 1s 4ms/step - loss: 0.0016 - accuracy: 0.9906 - val_loss: 0.0038 - val_accuracy: 0.9773\n",
            "Epoch 10/50\n",
            "188/188 [==============================] - 1s 4ms/step - loss: 0.0013 - accuracy: 0.9917 - val_loss: 0.0035 - val_accuracy: 0.9790\n",
            "Epoch 11/50\n",
            "188/188 [==============================] - 1s 4ms/step - loss: 0.0011 - accuracy: 0.9931 - val_loss: 0.0039 - val_accuracy: 0.9773\n",
            "Epoch 12/50\n",
            "188/188 [==============================] - 1s 4ms/step - loss: 0.0011 - accuracy: 0.9937 - val_loss: 0.0041 - val_accuracy: 0.9757\n",
            "Epoch 13/50\n",
            "188/188 [==============================] - 1s 4ms/step - loss: 0.0013 - accuracy: 0.9922 - val_loss: 0.0044 - val_accuracy: 0.9737\n",
            "Epoch 14/50\n",
            "188/188 [==============================] - 1s 4ms/step - loss: 0.0010 - accuracy: 0.9937 - val_loss: 0.0037 - val_accuracy: 0.9786\n",
            "Epoch 15/50\n",
            "188/188 [==============================] - 1s 4ms/step - loss: 9.9288e-04 - accuracy: 0.9943 - val_loss: 0.0040 - val_accuracy: 0.9774\n",
            "Epoch 16/50\n",
            "188/188 [==============================] - 1s 4ms/step - loss: 8.7933e-04 - accuracy: 0.9945 - val_loss: 0.0037 - val_accuracy: 0.9787\n",
            "Epoch 17/50\n",
            "188/188 [==============================] - 1s 4ms/step - loss: 8.9904e-04 - accuracy: 0.9947 - val_loss: 0.0045 - val_accuracy: 0.9747\n",
            "Epoch 18/50\n",
            "188/188 [==============================] - 1s 4ms/step - loss: 9.0709e-04 - accuracy: 0.9947 - val_loss: 0.0051 - val_accuracy: 0.9712\n",
            "Epoch 19/50\n",
            "188/188 [==============================] - 1s 4ms/step - loss: 7.6873e-04 - accuracy: 0.9953 - val_loss: 0.0040 - val_accuracy: 0.9778\n",
            "Epoch 20/50\n",
            "188/188 [==============================] - 1s 4ms/step - loss: 7.9847e-04 - accuracy: 0.9957 - val_loss: 0.0040 - val_accuracy: 0.9781\n",
            "Epoch 21/50\n",
            "188/188 [==============================] - 1s 4ms/step - loss: 6.8629e-04 - accuracy: 0.9960 - val_loss: 0.0036 - val_accuracy: 0.9800\n",
            "Epoch 22/50\n",
            "188/188 [==============================] - 1s 4ms/step - loss: 6.9390e-04 - accuracy: 0.9961 - val_loss: 0.0038 - val_accuracy: 0.9785\n",
            "Epoch 23/50\n",
            "188/188 [==============================] - 1s 4ms/step - loss: 7.7208e-04 - accuracy: 0.9956 - val_loss: 0.0043 - val_accuracy: 0.9762\n",
            "Epoch 24/50\n",
            "188/188 [==============================] - 1s 4ms/step - loss: 6.4123e-04 - accuracy: 0.9963 - val_loss: 0.0035 - val_accuracy: 0.9808\n",
            "Epoch 25/50\n",
            "188/188 [==============================] - 1s 4ms/step - loss: 6.2112e-04 - accuracy: 0.9965 - val_loss: 0.0042 - val_accuracy: 0.9765\n",
            "Epoch 26/50\n",
            "188/188 [==============================] - 1s 4ms/step - loss: 6.6916e-04 - accuracy: 0.9964 - val_loss: 0.0040 - val_accuracy: 0.9779\n",
            "Epoch 27/50\n",
            "188/188 [==============================] - 1s 4ms/step - loss: 7.1860e-04 - accuracy: 0.9959 - val_loss: 0.0037 - val_accuracy: 0.9795\n",
            "Epoch 28/50\n",
            "188/188 [==============================] - 1s 4ms/step - loss: 6.8466e-04 - accuracy: 0.9960 - val_loss: 0.0042 - val_accuracy: 0.9774\n",
            "Epoch 29/50\n",
            "188/188 [==============================] - 1s 4ms/step - loss: 6.4672e-04 - accuracy: 0.9964 - val_loss: 0.0039 - val_accuracy: 0.9788\n",
            "Epoch 30/50\n",
            "188/188 [==============================] - 1s 4ms/step - loss: 6.6055e-04 - accuracy: 0.9961 - val_loss: 0.0039 - val_accuracy: 0.9788\n"
          ],
          "name": "stdout"
        }
      ]
    },
    {
      "cell_type": "code",
      "metadata": {
        "colab": {
          "base_uri": "https://localhost:8080/"
        },
        "id": "t0FpbD4CRRWN",
        "outputId": "0caf3729-e8e7-403b-8d0b-eb84e3e9ef33"
      },
      "source": [
        "score = model.evaluate(x_test_final, y_test_final, verbose=0) \n",
        "print('Test loss:', score[0]) \n",
        "print('Test accuracy:', score[1])"
      ],
      "execution_count": null,
      "outputs": [
        {
          "output_type": "stream",
          "text": [
            "Test loss: 0.003715082071721554\n",
            "Test accuracy: 0.9800000190734863\n"
          ],
          "name": "stdout"
        }
      ]
    },
    {
      "cell_type": "code",
      "metadata": {
        "colab": {
          "base_uri": "https://localhost:8080/",
          "height": 295
        },
        "id": "bb6j3QDdRsws",
        "outputId": "fcbf04af-c910-4ec3-b500-81ba5e811a13"
      },
      "source": [
        "plt.plot(history.history['loss'])\n",
        "plt.plot(history.history['val_loss'])\n",
        "plt.title('Model Loss')\n",
        "plt.ylabel('Loss')\n",
        "plt.xlabel('Epoch')\n",
        "plt.legend(['Train', 'Test'], loc='upper right')\n",
        "plt.show()"
      ],
      "execution_count": null,
      "outputs": [
        {
          "output_type": "display_data",
          "data": {
            "image/png": "[encoded data removed]",
            "text/plain": [
              "<Figure size 432x288 with 1 Axes>"
            ]
          },
          "metadata": {
            "tags": [],
            "needs_background": "light"
          }
        }
      ]
    },
    {
      "cell_type": "code",
      "metadata": {
        "colab": {
          "base_uri": "https://localhost:8080/",
          "height": 295
        },
        "id": "SL28N5xzYLin",
        "outputId": "4518a06d-036b-49b4-8387-0f7088fe586f"
      },
      "source": [
        "plt.plot(history.history['accuracy'])\n",
        "plt.plot(history.history['val_accuracy'])\n",
        "plt.title('Model Accuracy')\n",
        "plt.ylabel('Accuracy')\n",
        "plt.xlabel('Epoch')\n",
        "plt.legend(['Train', 'Test'], loc='upper right')\n",
        "plt.show()"
      ],
      "execution_count": null,
      "outputs": [
        {
          "output_type": "display_data",
          "data": {
            "image/png": "[encoded data removed]",
            "text/plain": [
              "<Figure size 432x288 with 1 Axes>"
            ]
          },
          "metadata": {
            "tags": [],
            "needs_background": "light"
          }
        }
      ]
    }
  ]
}