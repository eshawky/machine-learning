{
  "nbformat": 4,
  "nbformat_minor": 0,
  "metadata": {
    "colab": {
      "provenance": []
    },
    "kernelspec": {
      "name": "python3",
      "display_name": "Python 3"
    },
    "language_info": {
      "name": "python"
    },
    "accelerator": "GPU"
  },
  "cells": [
    {
      "cell_type": "code",
      "metadata": {
        "id": "Mv5fSm4dOYvv"
      },
      "source": [
        "import numpy as np\n",
        "import matplotlib.pyplot as plt\n",
        "from tensorflow import keras\n",
        "from keras.datasets import mnist\n",
        "from keras.models import Sequential \n",
        "from keras.layers import Dense \n",
        "from keras.callbacks import EarlyStopping \n",
        "from tensorflow.keras.utils import to_categorical"
      ],
      "execution_count": 1,
      "outputs": []
    },
    {
      "cell_type": "code",
      "metadata": {
        "id": "cwvJU42NOziW",
        "colab": {
          "base_uri": "https://localhost:8080/"
        },
        "outputId": "ce1cf5cb-4bc0-4a59-da77-55ce16741fbb"
      },
      "source": [
        "(x_train, y_train), (x_test, y_test) = mnist.load_data()\n",
        "x_train_final = x_train.reshape((-1, 784)) /255\n",
        "x_test_final = x_test.reshape((-1, 784)) /255\n",
        "y_train_final = to_categorical(y_train)\n",
        "y_test_final = to_categorical(y_test)"
      ],
      "execution_count": 2,
      "outputs": [
        {
          "output_type": "stream",
          "name": "stdout",
          "text": [
            "Downloading data from https://storage.googleapis.com/tensorflow/tf-keras-datasets/mnist.npz\n",
            "11493376/11490434 [==============================] - 0s 0us/step\n",
            "11501568/11490434 [==============================] - 0s 0us/step\n"
          ]
        }
      ]
    },
    {
      "cell_type": "code",
      "metadata": {
        "id": "pXe-M4uePbqU"
      },
      "source": [
        "model = Sequential() \n",
        "model.add(Dense(512, kernel_initializer='normal', activation='relu', input_shape=(784,)))\n",
        "model.add(Dense(512, activation='relu'))\n",
        "model.add(Dense(512, activation='relu'))\n",
        "model.add(Dense(10, activation='softmax'))"
      ],
      "execution_count": 3,
      "outputs": []
    },
    {
      "cell_type": "code",
      "metadata": {
        "id": "NO68Ph8xQAe1"
      },
      "source": [
        "model.compile(loss='binary_crossentropy', optimizer='RMSprop', metrics=['accuracy'])"
      ],
      "execution_count": 9,
      "outputs": []
    },
    {
      "cell_type": "code",
      "metadata": {
        "colab": {
          "base_uri": "https://localhost:8080/"
        },
        "id": "FMOG-hdVQItC",
        "outputId": "dca0eacb-aa21-48c6-e774-5dbff0e546ad"
      },
      "source": [
        "history = model.fit(x_train_final, y_train_final, batch_size=256, epochs=50, verbose=1, validation_split = 0.2, callbacks = [EarlyStopping(monitor = 'val_loss', patience = 20)])"
      ],
      "execution_count": 10,
      "outputs": [
        {
          "output_type": "stream",
          "name": "stdout",
          "text": [
            "Epoch 1/50\n",
            "188/188 [==============================] - 4s 6ms/step - loss: 0.0682 - accuracy: 0.8797 - val_loss: 0.0395 - val_accuracy: 0.9331\n",
            "Epoch 2/50\n",
            "188/188 [==============================] - 1s 5ms/step - loss: 0.0199 - accuracy: 0.9668 - val_loss: 0.0236 - val_accuracy: 0.9614\n",
            "Epoch 3/50\n",
            "188/188 [==============================] - 1s 5ms/step - loss: 0.0119 - accuracy: 0.9804 - val_loss: 0.0160 - val_accuracy: 0.9726\n",
            "Epoch 4/50\n",
            "188/188 [==============================] - 1s 5ms/step - loss: 0.0082 - accuracy: 0.9866 - val_loss: 0.0166 - val_accuracy: 0.9742\n",
            "Epoch 5/50\n",
            "188/188 [==============================] - 1s 7ms/step - loss: 0.0055 - accuracy: 0.9914 - val_loss: 0.0173 - val_accuracy: 0.9754\n",
            "Epoch 6/50\n",
            "188/188 [==============================] - 1s 6ms/step - loss: 0.0043 - accuracy: 0.9933 - val_loss: 0.0189 - val_accuracy: 0.9758\n",
            "Epoch 7/50\n",
            "188/188 [==============================] - 1s 5ms/step - loss: 0.0035 - accuracy: 0.9944 - val_loss: 0.0212 - val_accuracy: 0.9752\n",
            "Epoch 8/50\n",
            "188/188 [==============================] - 1s 4ms/step - loss: 0.0028 - accuracy: 0.9954 - val_loss: 0.0257 - val_accuracy: 0.9722\n",
            "Epoch 9/50\n",
            "188/188 [==============================] - 1s 4ms/step - loss: 0.0023 - accuracy: 0.9963 - val_loss: 0.0255 - val_accuracy: 0.9758\n",
            "Epoch 10/50\n",
            "188/188 [==============================] - 1s 5ms/step - loss: 0.0020 - accuracy: 0.9971 - val_loss: 0.0283 - val_accuracy: 0.9745\n",
            "Epoch 11/50\n",
            "188/188 [==============================] - 1s 5ms/step - loss: 0.0018 - accuracy: 0.9973 - val_loss: 0.0222 - val_accuracy: 0.9818\n",
            "Epoch 12/50\n",
            "188/188 [==============================] - 1s 5ms/step - loss: 0.0017 - accuracy: 0.9974 - val_loss: 0.0239 - val_accuracy: 0.9798\n",
            "Epoch 13/50\n",
            "188/188 [==============================] - 1s 4ms/step - loss: 0.0014 - accuracy: 0.9980 - val_loss: 0.0294 - val_accuracy: 0.9767\n",
            "Epoch 14/50\n",
            "188/188 [==============================] - 1s 4ms/step - loss: 0.0015 - accuracy: 0.9980 - val_loss: 0.0294 - val_accuracy: 0.9800\n",
            "Epoch 15/50\n",
            "188/188 [==============================] - 1s 4ms/step - loss: 0.0014 - accuracy: 0.9981 - val_loss: 0.0283 - val_accuracy: 0.9816\n",
            "Epoch 16/50\n",
            "188/188 [==============================] - 1s 4ms/step - loss: 0.0011 - accuracy: 0.9985 - val_loss: 0.0300 - val_accuracy: 0.9805\n",
            "Epoch 17/50\n",
            "188/188 [==============================] - 1s 5ms/step - loss: 0.0012 - accuracy: 0.9987 - val_loss: 0.0321 - val_accuracy: 0.9802\n",
            "Epoch 18/50\n",
            "188/188 [==============================] - 1s 4ms/step - loss: 0.0011 - accuracy: 0.9986 - val_loss: 0.0320 - val_accuracy: 0.9804\n",
            "Epoch 19/50\n",
            "188/188 [==============================] - 1s 5ms/step - loss: 9.8899e-04 - accuracy: 0.9987 - val_loss: 0.0333 - val_accuracy: 0.9808\n",
            "Epoch 20/50\n",
            "188/188 [==============================] - 1s 4ms/step - loss: 0.0011 - accuracy: 0.9986 - val_loss: 0.0322 - val_accuracy: 0.9806\n",
            "Epoch 21/50\n",
            "188/188 [==============================] - 1s 5ms/step - loss: 0.0011 - accuracy: 0.9985 - val_loss: 0.0308 - val_accuracy: 0.9808\n",
            "Epoch 22/50\n",
            "188/188 [==============================] - 1s 4ms/step - loss: 9.2167e-04 - accuracy: 0.9990 - val_loss: 0.0329 - val_accuracy: 0.9802\n",
            "Epoch 23/50\n",
            "188/188 [==============================] - 1s 4ms/step - loss: 8.5449e-04 - accuracy: 0.9989 - val_loss: 0.0389 - val_accuracy: 0.9810\n"
          ]
        }
      ]
    },
    {
      "cell_type": "code",
      "metadata": {
        "colab": {
          "base_uri": "https://localhost:8080/"
        },
        "id": "t0FpbD4CRRWN",
        "outputId": "d2b2cd9c-1d70-425e-943f-3cca16c179a7"
      },
      "source": [
        "score = model.evaluate(x_test_final, y_test_final, verbose=0) \n",
        "print('Test loss:', score[0]) \n",
        "print('Test accuracy:', score[1])"
      ],
      "execution_count": 11,
      "outputs": [
        {
          "output_type": "stream",
          "name": "stdout",
          "text": [
            "Test loss: 0.03724154829978943\n",
            "Test accuracy: 0.9811999797821045\n"
          ]
        }
      ]
    },
    {
      "cell_type": "code",
      "metadata": {
        "colab": {
          "base_uri": "https://localhost:8080/",
          "height": 295
        },
        "id": "bb6j3QDdRsws",
        "outputId": "1dd89123-c6dc-44f8-a04a-165e6cef319f"
      },
      "source": [
        "plt.plot(history.history['loss'])\n",
        "plt.plot(history.history['val_loss'])\n",
        "plt.title('Model Loss')\n",
        "plt.ylabel('Loss')\n",
        "plt.xlabel('Epoch')\n",
        "plt.legend(['Train', 'Test'], loc='upper right')\n",
        "plt.show()"
      ],
      "execution_count": 12,
      "outputs": [
        {
          "output_type": "display_data",
          "data": {
            "text/plain": [
              "<Figure size 432x288 with 1 Axes>"
            ],
            "image/png": "[encoded data removed]"
          },
          "metadata": {
            "needs_background": "light"
          }
        }
      ]
    },
    {
      "cell_type": "code",
      "metadata": {
        "colab": {
          "base_uri": "https://localhost:8080/",
          "height": 295
        },
        "id": "SL28N5xzYLin",
        "outputId": "3da0484c-897c-44ee-a467-ce8469e51011"
      },
      "source": [
        "plt.plot(history.history['accuracy'])\n",
        "plt.plot(history.history['val_accuracy'])\n",
        "plt.title('Model Accuracy')\n",
        "plt.ylabel('Accuracy')\n",
        "plt.xlabel('Epoch')\n",
        "plt.legend(['Train', 'Test'], loc='upper right')\n",
        "plt.show()"
      ],
      "execution_count": 13,
      "outputs": [
        {
          "output_type": "display_data",
          "data": {
            "text/plain": [
              "<Figure size 432x288 with 1 Axes>"
            ],
            "image/png": "[encoded data removed]"
          },
          "metadata": {
            "needs_background": "light"
          }
        }
      ]
    }
  ]
}