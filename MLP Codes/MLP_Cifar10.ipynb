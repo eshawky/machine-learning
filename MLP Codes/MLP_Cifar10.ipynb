{
  "nbformat": 4,
  "nbformat_minor": 0,
  "metadata": {
    "colab": {
      "provenance": []
    },
    "kernelspec": {
      "name": "python3",
      "display_name": "Python 3"
    },
    "language_info": {
      "name": "python"
    },
    "accelerator": "GPU"
  },
  "cells": [
    {
      "cell_type": "code",
      "metadata": {
        "id": "Mv5fSm4dOYvv"
      },
      "source": [
        "import numpy as np\n",
        "import matplotlib.pyplot as plt\n",
        "from tensorflow import keras\n",
        "from keras.datasets import cifar10\n",
        "from keras.models import Sequential \n",
        "from keras.layers import Dense \n",
        "from keras.callbacks import EarlyStopping \n",
        "#from tensorflow.keras.utils import to_categorical"
      ],
      "execution_count": 21,
      "outputs": []
    },
    {
      "cell_type": "code",
      "metadata": {
        "id": "cwvJU42NOziW",
        "colab": {
          "base_uri": "https://localhost:8080/"
        },
        "outputId": "c22ccd3c-0747-4732-d760-0512e0052dd6"
      },
      "source": [
        "(x_train, y_train), (x_test, y_test) = cifar10.load_data()\n",
        "x_train_final = x_train.reshape((-1, 3072)) /255\n",
        "x_test_final = x_test.reshape((-1, 3072)) /255\n",
        "#y_train_final = to_categorical(y_train)\n",
        "#y_test_final = to_categorical(y_test)\n",
        "y_train_final = y_train\n",
        "y_test_final = y_test"
      ],
      "execution_count": 22,
      "outputs": [
        {
          "output_type": "stream",
          "name": "stdout",
          "text": [
            "Downloading data from https://www.cs.toronto.edu/~kriz/cifar-10-python.tar.gz\n",
            "170500096/170498071 [==============================] - 9s 0us/step\n",
            "170508288/170498071 [==============================] - 9s 0us/step\n"
          ]
        }
      ]
    },
    {
      "cell_type": "code",
      "metadata": {
        "id": "pXe-M4uePbqU"
      },
      "source": [
        "model = Sequential() \n",
        "model.add(Dense(512, kernel_initializer='normal', activation='relu', input_shape=(3072,)))\n",
        "model.add(Dense(512, activation='relu'))\n",
        "model.add(Dense(512, activation='relu'))\n",
        "model.add(Dense(10, activation='softmax'))"
      ],
      "execution_count": 26,
      "outputs": []
    },
    {
      "cell_type": "code",
      "metadata": {
        "id": "NO68Ph8xQAe1"
      },
      "source": [
        "model.compile(loss='sparse_categorical_crossentropy', optimizer='RMSprop', metrics=['accuracy'])"
      ],
      "execution_count": 27,
      "outputs": []
    },
    {
      "cell_type": "code",
      "metadata": {
        "colab": {
          "base_uri": "https://localhost:8080/"
        },
        "id": "FMOG-hdVQItC",
        "outputId": "bf3cf548-6c0a-4022-ac5e-867dc12b04cd"
      },
      "source": [
        "history = model.fit(x_train_final, y_train_final, batch_size=256, epochs=50, verbose=1, validation_split = 0.2, callbacks = [EarlyStopping(monitor = 'val_loss', patience = 20)])"
      ],
      "execution_count": 28,
      "outputs": [
        {
          "output_type": "stream",
          "name": "stdout",
          "text": [
            "Epoch 1/50\n",
            "157/157 [==============================] - 2s 8ms/step - loss: 2.3325 - accuracy: 0.2124 - val_loss: 1.9830 - val_accuracy: 0.2571\n",
            "Epoch 2/50\n",
            "157/157 [==============================] - 1s 6ms/step - loss: 1.9411 - accuracy: 0.2996 - val_loss: 1.8915 - val_accuracy: 0.3223\n",
            "Epoch 3/50\n",
            "157/157 [==============================] - 1s 5ms/step - loss: 1.8279 - accuracy: 0.3419 - val_loss: 1.7358 - val_accuracy: 0.3819\n",
            "Epoch 4/50\n",
            "157/157 [==============================] - 1s 5ms/step - loss: 1.7507 - accuracy: 0.3708 - val_loss: 1.7783 - val_accuracy: 0.3633\n",
            "Epoch 5/50\n",
            "157/157 [==============================] - 1s 5ms/step - loss: 1.6876 - accuracy: 0.3916 - val_loss: 1.7861 - val_accuracy: 0.3630\n",
            "Epoch 6/50\n",
            "157/157 [==============================] - 1s 5ms/step - loss: 1.6408 - accuracy: 0.4132 - val_loss: 1.7851 - val_accuracy: 0.3800\n",
            "Epoch 7/50\n",
            "157/157 [==============================] - 1s 5ms/step - loss: 1.5996 - accuracy: 0.4261 - val_loss: 1.8001 - val_accuracy: 0.3611\n",
            "Epoch 8/50\n",
            "157/157 [==============================] - 1s 5ms/step - loss: 1.5560 - accuracy: 0.4435 - val_loss: 1.6510 - val_accuracy: 0.4068\n",
            "Epoch 9/50\n",
            "157/157 [==============================] - 1s 5ms/step - loss: 1.5170 - accuracy: 0.4583 - val_loss: 1.7753 - val_accuracy: 0.3887\n",
            "Epoch 10/50\n",
            "157/157 [==============================] - 1s 5ms/step - loss: 1.4772 - accuracy: 0.4712 - val_loss: 1.5743 - val_accuracy: 0.4465\n",
            "Epoch 11/50\n",
            "157/157 [==============================] - 1s 5ms/step - loss: 1.4409 - accuracy: 0.4866 - val_loss: 1.7712 - val_accuracy: 0.3911\n",
            "Epoch 12/50\n",
            "157/157 [==============================] - 1s 6ms/step - loss: 1.4091 - accuracy: 0.4978 - val_loss: 1.6434 - val_accuracy: 0.4403\n",
            "Epoch 13/50\n",
            "157/157 [==============================] - 1s 5ms/step - loss: 1.3804 - accuracy: 0.5089 - val_loss: 1.7057 - val_accuracy: 0.4196\n",
            "Epoch 14/50\n",
            "157/157 [==============================] - 1s 6ms/step - loss: 1.3393 - accuracy: 0.5203 - val_loss: 1.7179 - val_accuracy: 0.4229\n",
            "Epoch 15/50\n",
            "157/157 [==============================] - 1s 6ms/step - loss: 1.3096 - accuracy: 0.5329 - val_loss: 1.7751 - val_accuracy: 0.4115\n",
            "Epoch 16/50\n",
            "157/157 [==============================] - 1s 8ms/step - loss: 1.2749 - accuracy: 0.5442 - val_loss: 1.6607 - val_accuracy: 0.4475\n",
            "Epoch 17/50\n",
            "157/157 [==============================] - 1s 6ms/step - loss: 1.2404 - accuracy: 0.5545 - val_loss: 1.7702 - val_accuracy: 0.4291\n",
            "Epoch 18/50\n",
            "157/157 [==============================] - 1s 6ms/step - loss: 1.2022 - accuracy: 0.5688 - val_loss: 1.6983 - val_accuracy: 0.4555\n",
            "Epoch 19/50\n",
            "157/157 [==============================] - 1s 6ms/step - loss: 1.1758 - accuracy: 0.5795 - val_loss: 1.8352 - val_accuracy: 0.4233\n",
            "Epoch 20/50\n",
            "157/157 [==============================] - 1s 5ms/step - loss: 1.1457 - accuracy: 0.5938 - val_loss: 1.7219 - val_accuracy: 0.4688\n",
            "Epoch 21/50\n",
            "157/157 [==============================] - 1s 5ms/step - loss: 1.1027 - accuracy: 0.6023 - val_loss: 1.8172 - val_accuracy: 0.4426\n",
            "Epoch 22/50\n",
            "157/157 [==============================] - 1s 5ms/step - loss: 1.0786 - accuracy: 0.6136 - val_loss: 1.7988 - val_accuracy: 0.4391\n",
            "Epoch 23/50\n",
            "157/157 [==============================] - 1s 7ms/step - loss: 1.0414 - accuracy: 0.6275 - val_loss: 1.7521 - val_accuracy: 0.4756\n",
            "Epoch 24/50\n",
            "157/157 [==============================] - 1s 7ms/step - loss: 1.0120 - accuracy: 0.6387 - val_loss: 1.8987 - val_accuracy: 0.4417\n",
            "Epoch 25/50\n",
            "157/157 [==============================] - 1s 5ms/step - loss: 0.9754 - accuracy: 0.6510 - val_loss: 1.8470 - val_accuracy: 0.4547\n",
            "Epoch 26/50\n",
            "157/157 [==============================] - 1s 5ms/step - loss: 0.9540 - accuracy: 0.6597 - val_loss: 1.9178 - val_accuracy: 0.4525\n",
            "Epoch 27/50\n",
            "157/157 [==============================] - 1s 5ms/step - loss: 0.9272 - accuracy: 0.6678 - val_loss: 2.0380 - val_accuracy: 0.4634\n",
            "Epoch 28/50\n",
            "157/157 [==============================] - 1s 5ms/step - loss: 0.8847 - accuracy: 0.6806 - val_loss: 2.0445 - val_accuracy: 0.4452\n",
            "Epoch 29/50\n",
            "157/157 [==============================] - 1s 5ms/step - loss: 0.8669 - accuracy: 0.6919 - val_loss: 2.2500 - val_accuracy: 0.4268\n",
            "Epoch 30/50\n",
            "157/157 [==============================] - 1s 5ms/step - loss: 0.8331 - accuracy: 0.7013 - val_loss: 2.1544 - val_accuracy: 0.4497\n"
          ]
        }
      ]
    },
    {
      "cell_type": "code",
      "metadata": {
        "colab": {
          "base_uri": "https://localhost:8080/"
        },
        "id": "t0FpbD4CRRWN",
        "outputId": "959f56a9-bef2-4139-9e4f-78edecbe33c2"
      },
      "source": [
        "score = model.evaluate(x_test_final, y_test_final, verbose=0) \n",
        "print('Test loss:', score[0]) \n",
        "print('Test accuracy:', score[1])"
      ],
      "execution_count": 29,
      "outputs": [
        {
          "output_type": "stream",
          "name": "stdout",
          "text": [
            "Test loss: 2.134387493133545\n",
            "Test accuracy: 0.4462999999523163\n"
          ]
        }
      ]
    },
    {
      "cell_type": "code",
      "metadata": {
        "colab": {
          "base_uri": "https://localhost:8080/",
          "height": 295
        },
        "id": "bb6j3QDdRsws",
        "outputId": "0e77b361-841e-4fa0-817c-74a191c8fd64"
      },
      "source": [
        "plt.plot(history.history['loss'])\n",
        "plt.plot(history.history['val_loss'])\n",
        "plt.title('Model Loss')\n",
        "plt.ylabel('Loss')\n",
        "plt.xlabel('Epoch')\n",
        "plt.legend(['Train', 'Test'], loc='upper right')\n",
        "plt.show()"
      ],
      "execution_count": 30,
      "outputs": [
        {
          "output_type": "display_data",
          "data": {
            "text/plain": [
              "<Figure size 432x288 with 1 Axes>"
            ],
            "image/png": "[encoded data removed]"
          },
          "metadata": {
            "needs_background": "light"
          }
        }
      ]
    },
    {
      "cell_type": "code",
      "metadata": {
        "colab": {
          "base_uri": "https://localhost:8080/",
          "height": 295
        },
        "id": "SL28N5xzYLin",
        "outputId": "6ea30671-db19-4f2e-a77b-ad293af80512"
      },
      "source": [
        "plt.plot(history.history['accuracy'])\n",
        "plt.plot(history.history['val_accuracy'])\n",
        "plt.title('Model Accuracy')\n",
        "plt.ylabel('Accuracy')\n",
        "plt.xlabel('Epoch')\n",
        "plt.legend(['Train', 'Test'], loc='upper right')\n",
        "plt.show()"
      ],
      "execution_count": 31,
      "outputs": [
        {
          "output_type": "display_data",
          "data": {
            "text/plain": [
              "<Figure size 432x288 with 1 Axes>"
            ],
            "image/png": "[encoded data removed]"
          },
          "metadata": {
            "needs_background": "light"
          }
        }
      ]
    }
  ]
}