{
  "nbformat": 4,
  "nbformat_minor": 0,
  "metadata": {
    "colab": {
      "provenance": []
    },
    "kernelspec": {
      "name": "python3",
      "display_name": "Python 3"
    },
    "language_info": {
      "name": "python"
    },
    "accelerator": "GPU"
  },
  "cells": [
    {
      "cell_type": "code",
      "execution_count": 1,
      "metadata": {
        "id": "ByyFehtMkKJ5"
      },
      "outputs": [],
      "source": [
        "#Prevent unnecessary warnings.\n",
        "import warnings\n",
        "warnings.filterwarnings(\"ignore\")\n",
        "\n",
        "#Introduce the basic package of data science.\n",
        "import numpy       as np\n",
        "import matplotlib  as mpl\n",
        "import matplotlib.pyplot as plt\n",
        "import pandas      as pd\n",
        "import scipy.stats as st\n",
        "import seaborn     as sns\n",
        "\n",
        "#Introduce machine learning, preprocessing, model selection, and evaluation indicators.\n",
        "from sklearn.preprocessing   import StandardScaler\n",
        "from sklearn.model_selection import train_test_split\n",
        "from sklearn.metrics         import r2_score\n",
        "\n",
        "#Import the Boston dataset used this time.\n",
        "from sklearn.datasets     import load_boston\n",
        "\n",
        "#Introduce regression algorithms.\n",
        "from sklearn.linear_model import RidgeCV, LassoCV, LinearRegression, ElasticNet\n",
        "from sklearn.svm          import SVR\n",
        "from sklearn.ensemble     import RandomForestRegressor, GradientBoostingRegressor\n",
        "from xgboost              import XGBRegressor"
      ]
    },
    {
      "cell_type": "code",
      "source": [
        "#Load the Boston house price data set.\n",
        "boston = load_boston()\n",
        "\n",
        "#x features, and y labels.\n",
        "x = boston.data\n",
        "y = boston.target\n",
        "\n",
        "#Display related attributes.\n",
        "print('Feature column name')\n",
        "print(boston.feature_names)\n",
        "print(\"Sample data volume: %d, number of features: %d\"% x.shape)\n",
        "print(\"Target sample data volume: %d\"% y.shape[0])\n"
      ],
      "metadata": {
        "colab": {
          "base_uri": "https://localhost:8080/"
        },
        "id": "nd0p2TuLkYEp",
        "outputId": "4ddcfa03-2c39-4e7c-97a9-ea01795cb6dc"
      },
      "execution_count": 2,
      "outputs": [
        {
          "output_type": "stream",
          "name": "stdout",
          "text": [
            "Feature column name\n",
            "['CRIM' 'ZN' 'INDUS' 'CHAS' 'NOX' 'RM' 'AGE' 'DIS' 'RAD' 'TAX' 'PTRATIO'\n",
            " 'B' 'LSTAT']\n",
            "Sample data volume: 506, number of features: 13\n",
            "Target sample data volume: 506\n"
          ]
        }
      ]
    },
    {
      "cell_type": "code",
      "source": [
        "x = pd.DataFrame(boston.data, columns=boston.feature_names)\n",
        "#sns.distplot(tuple(y), kde=False, fit=st.norm)\n",
        "#x"
      ],
      "metadata": {
        "id": "eayG7I3q63pa"
      },
      "execution_count": 3,
      "outputs": []
    },
    {
      "cell_type": "code",
      "source": [
        "#Segment the data.\n",
        "x_train, x_test, y_train, y_test = train_test_split(x, y, test_size=0.2, random_state=28)\n",
        "\n",
        "#Standardize the data set.\n",
        "ss      = StandardScaler()\n",
        "x_train = ss.fit_transform(x_train)\n",
        "x_test  = ss.transform(x_test)\n",
        "#x_train[0:100]"
      ],
      "metadata": {
        "id": "SWpf2K7s8A3q"
      },
      "execution_count": 4,
      "outputs": []
    },
    {
      "cell_type": "code",
      "source": [
        "#Set the model name.\n",
        "names = ['LinerRegression',\n",
        "          'Ridge',\n",
        "          'Lasso',\n",
        "          'Random Forrest',\n",
        "          'GBDT',\n",
        "          'Support Vector Regression',\n",
        "          'ElasticNet',\n",
        "          'XgBoost']\n",
        "\n",
        "\n",
        "#Define the model.\n",
        "# cv is the cross-validation idea here.\n",
        "models = [LinearRegression(),\n",
        "         RidgeCV(alphas=(0.001,0.1,1),cv=3),\n",
        "         LassoCV(alphas=(0.001,0.1,1),cv=5),\n",
        "         RandomForestRegressor(n_estimators=10),\n",
        "         GradientBoostingRegressor(n_estimators=30),\n",
        "         SVR(),\n",
        "         ElasticNet(alpha=0.001,max_iter=10000),\n",
        "         XGBRegressor()]\n",
        "# Output the R2 scores of all regression models.\n",
        "\n",
        "#Define the R2 scoring function.\n",
        "def R2(model,x_train, x_test, y_train, y_test):\n",
        "        model_fitted = model.fit(x_train,y_train)\n",
        "        y_pred       = model_fitted.predict(x_test)\n",
        "        score        = r2_score(y_test, y_pred)\n",
        "        return score\n",
        "\n",
        "#Traverse all models to score.\n",
        "for name,model in zip(names,models):\n",
        "        score = R2(model,x_train, x_test, y_train, y_test)\n",
        "        print(\"{}: {:.6f}, {:.4f}\".format(name,score.mean(),score.std()))\n"
      ],
      "metadata": {
        "colab": {
          "base_uri": "https://localhost:8080/"
        },
        "id": "kRL0lU20_dBy",
        "outputId": "b6a2f162-c666-4edc-fc00-eda12c2d3b1b"
      },
      "execution_count": 5,
      "outputs": [
        {
          "output_type": "stream",
          "name": "stdout",
          "text": [
            "LinerRegression: 0.564115, 0.0000\n",
            "Ridge: 0.563673, 0.0000\n",
            "Lasso: 0.564049, 0.0000\n",
            "Random Forrest: 0.666344, 0.0000\n",
            "GBDT: 0.738362, 0.0000\n",
            "Support Vector Regression: 0.517260, 0.0000\n",
            "ElasticNet: 0.563992, 0.0000\n",
            "[15:04:32] WARNING: /workspace/src/objective/regression_obj.cu:152: reg:linear is now deprecated in favor of reg:squarederror.\n",
            "XgBoost: 0.761123, 0.0000\n"
          ]
        }
      ]
    }
  ]
}